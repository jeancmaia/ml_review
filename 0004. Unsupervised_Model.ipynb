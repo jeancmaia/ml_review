{
 "cells": [
  {
   "cell_type": "markdown",
   "id": "b33dad0d-0811-4b62-9088-6e638d72a83d",
   "metadata": {},
   "source": [
    "Unsupervised is a group of machine learning models pruned to learn in unlabeled data points. Some writers distiguish those algorithm models in three classes Dimensionality Reduction, Anomaly Detection and Clustering. AS it follows, a list with some of the most iconic models:"
   ]
  },
  {
   "cell_type": "markdown",
   "id": "43550342-00d2-4cd2-93b7-edd919c3e1c9",
   "metadata": {},
   "source": [
    "* K-means.    \n",
    "\n",
    "K-Means algorithm aims to spot `n` distinct clusters on a dataset by minimizing the similarity intra-cluster. The loss function `inertia` uses the euclidean distance between points and protypes. As its default argument, K-Means finds circular clusters with the same variance, and can curb local minimums. As a result, the K-Means doesn't perform well on elongated and irregular shape, nor outliers.\n",
    "\n",
    "https://k-means-explorable.vercel.app/   \n",
    "\n",
    "The `Fuzzy K-Means` weakens the hard threshold and allows each data point sharing the proprieties of more than one cluster.  \n",
    "\n",
    "\n",
    "* Gaussian Mixture Models.   \n",
    "\n",
    "Gaussian Mixture model takes gaussian distributions as learner backbone. `n` clusters formulated are gaussians centered in $\\mu$ and variance-covariance $\\Sigma$. Armed with a gaussian distribution, it is easy to optimize it by means of the Likelihood or its log; but for optimize `n` we leverage the `Expectation-Maximization` algorithm. \n",
    "\n",
    "https://towardsdatascience.com/gaussian-mixture-models-explained-6986aaf5a95.\n",
    "\n",
    "\n",
    "* DBScan.    \n",
    "\n",
    "It is a Density-Based Clustering model that clusterizes by tying data points on a contiguous region, defined by at least two arguments: `eps`: distance measure and `MinPts`. Great algorithm, but might be overwhelming.\n",
    "https://www.kdnuggets.com/2020/04/dbscan-clustering-algorithm-machine-learning.html\n",
    "\n",
    "\n",
    "* Mean-Shift.    \n",
    "\n",
    "Another density kind of Density algorithm is the Mean-Shift.   \n",
    "\n",
    "\n",
    "* Hierarchical Clustering or Agglomerative Clustering.   \n",
    "\n",
    "It is a Hierarchical Model that assumes every data point as a cluster and groups it by proximity until it hits the upper bound of grouping.\n",
    "\n",
    "\n",
    "* BIRCH.    \n",
    "\n",
    "From my perspective, it is one of the most interesting ML models for unsupervised learning that classical literature can provide. BIRCH stands for `Balanced Iterative Reducing and Clustering using Hierarchies`, therefore it is a hierarchical model that leverage tree sorting algorithms to be computationally efficient. It works with the logic of Clustering Feature, and CF-Tree.\n"
   ]
  }
 ],
 "metadata": {
  "kernelspec": {
   "display_name": "Python 3 (ipykernel)",
   "language": "python",
   "name": "python3"
  },
  "language_info": {
   "codemirror_mode": {
    "name": "ipython",
    "version": 3
   },
   "file_extension": ".py",
   "mimetype": "text/x-python",
   "name": "python",
   "nbconvert_exporter": "python",
   "pygments_lexer": "ipython3",
   "version": "3.9.5"
  }
 },
 "nbformat": 4,
 "nbformat_minor": 5
}
