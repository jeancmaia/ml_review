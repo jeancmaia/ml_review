{
 "cells": [
  {
   "cell_type": "markdown",
   "id": "3f9ef82f-21cd-4b8b-ba68-7c9de75e287a",
   "metadata": {
    "tags": []
   },
   "source": [
    "Tree Based Methods are a family of ML models that have decision trees at their backbones. Decision Trees, on the other hand, are a kind of algorithm that looks like trees, where `branches` are conjunctions about covariates, holding decision rules `target-discriminative`. Leaves hold the decision process with target samples mapping."
   ]
  },
  {
   "cell_type": "markdown",
   "id": "0de43f53-60bf-43d2-8926-5f9865f4c557",
   "metadata": {},
   "source": [
    "The decision process of Decision Trees is generally defined by its capability of target separation. Therefore, impurity metrics, such as Gini Index and Information Gain, are key for learning.\n",
    "\n",
    "\n",
    "* Information Gain. IG leverages entropy as measure of impurity:\n",
    "\n",
    "$$E = -\\sum_{n=1}^{N} p_ilog_2p_i $$ \n",
    "    \n",
    "Information Gain is the \"amount of information improvement\" by some split.\n",
    "\n",
    "$$InformationGain = E_{parent} - E_{children}$$\n",
    "\n",
    "\n",
    "https://analyticsindiamag.com/a-complete-guide-to-decision-tree-split-using-information-gain/   \n",
    "https://www.section.io/engineering-education/entropy-information-gain-machine-learning/   \n",
    "\n",
    "\n",
    "* Gini Index. Measures the purity by the sum of the squared probabilities of each class from one.\n",
    "\n",
    "\n",
    "$$G = \\sum_{n=1}^{C} p(i)*(1-p(i)) $$\n"
   ]
  },
  {
   "cell_type": "markdown",
   "id": "afec1e7d-1b78-4484-9f5b-5ddb147c619c",
   "metadata": {},
   "source": [
    "Many techniques throughout years put Tree-based models at top-notch ML solutions and state of the art to tabular learning. Such as Pruning, Bagging, Boosting and Gradient Boosting.\n",
    "\n",
    "\n",
    "https://towardsdatascience.com/the-evolution-of-trees-based-classification-models-cb40912c8b35\n"
   ]
  },
  {
   "cell_type": "code",
   "execution_count": null,
   "id": "61f825fb-13d9-4764-9e22-d1b5cc65c20a",
   "metadata": {},
   "outputs": [],
   "source": []
  }
 ],
 "metadata": {
  "kernelspec": {
   "display_name": "Python 3 (ipykernel)",
   "language": "python",
   "name": "python3"
  },
  "language_info": {
   "codemirror_mode": {
    "name": "ipython",
    "version": 3
   },
   "file_extension": ".py",
   "mimetype": "text/x-python",
   "name": "python",
   "nbconvert_exporter": "python",
   "pygments_lexer": "ipython3",
   "version": "3.9.5"
  }
 },
 "nbformat": 4,
 "nbformat_minor": 5
}
